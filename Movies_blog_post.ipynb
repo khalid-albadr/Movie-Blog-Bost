{
  "nbformat": 4,
  "nbformat_minor": 0,
  "metadata": {
    "colab": {
      "name": "Movies_blog_post.ipynb",
      "provenance": []
    },
    "kernelspec": {
      "name": "python3",
      "display_name": "Python 3"
    },
    "language_info": {
      "name": "python"
    }
  },
  "cells": [
    {
      "cell_type": "code",
      "metadata": {
        "id": "FgD2U3pM3Ncj"
      },
      "source": [
        "\n",
        "import pandas as pd\n",
        "import numpy as np\n",
        "import matplotlib.pyplot as plt\n",
        "import seaborn as sns\n",
        "%matplotlib inline\n"
      ],
      "execution_count": 2,
      "outputs": []
    },
    {
      "cell_type": "markdown",
      "metadata": {
        "id": "f2OI-Dx2t_bV"
      },
      "source": [
        "# **Comparing comedy vs drama movies** \n",
        "\n",
        "*   how popular are comedy movies compared to drama movies?\n",
        "*   how is the popularity trend in each of drama and comedy movies throughout the years?\n",
        "*   how much the profit difference in drama movies to comedy?\n",
        "*   how many drama and comedy movies released per year ?\n",
        "\n"
      ]
    },
    {
      "cell_type": "markdown",
      "metadata": {
        "id": "sY_InPON4KJh"
      },
      "source": [
        "# Data Wrangling and Analysis"
      ]
    },
    {
      "cell_type": "code",
      "metadata": {
        "colab": {
          "base_uri": "https://localhost:8080/",
          "height": 0
        },
        "id": "BFtOxxz3395h",
        "outputId": "2241fe58-d929-4603-fc6a-8f5e401c5331"
      },
      "source": [
        "df=pd.read_csv('tmdb_movies.csv')\n",
        "df.head(6)"
      ],
      "execution_count": 3,
      "outputs": [
        {
          "output_type": "execute_result",
          "data": {
            "text/html": [
              "<div>\n",
              "<style scoped>\n",
              "    .dataframe tbody tr th:only-of-type {\n",
              "        vertical-align: middle;\n",
              "    }\n",
              "\n",
              "    .dataframe tbody tr th {\n",
              "        vertical-align: top;\n",
              "    }\n",
              "\n",
              "    .dataframe thead th {\n",
              "        text-align: right;\n",
              "    }\n",
              "</style>\n",
              "<table border=\"1\" class=\"dataframe\">\n",
              "  <thead>\n",
              "    <tr style=\"text-align: right;\">\n",
              "      <th></th>\n",
              "      <th>id</th>\n",
              "      <th>imdb_id</th>\n",
              "      <th>popularity</th>\n",
              "      <th>budget</th>\n",
              "      <th>revenue</th>\n",
              "      <th>original_title</th>\n",
              "      <th>cast</th>\n",
              "      <th>homepage</th>\n",
              "      <th>director</th>\n",
              "      <th>tagline</th>\n",
              "      <th>keywords</th>\n",
              "      <th>overview</th>\n",
              "      <th>runtime</th>\n",
              "      <th>genres</th>\n",
              "      <th>production_companies</th>\n",
              "      <th>release_date</th>\n",
              "      <th>vote_count</th>\n",
              "      <th>vote_average</th>\n",
              "      <th>release_year</th>\n",
              "      <th>budget_adj</th>\n",
              "      <th>revenue_adj</th>\n",
              "    </tr>\n",
              "  </thead>\n",
              "  <tbody>\n",
              "    <tr>\n",
              "      <th>0</th>\n",
              "      <td>135397</td>\n",
              "      <td>tt0369610</td>\n",
              "      <td>32.985763</td>\n",
              "      <td>150000000</td>\n",
              "      <td>1513528810</td>\n",
              "      <td>Jurassic World</td>\n",
              "      <td>Chris Pratt|Bryce Dallas Howard|Irrfan Khan|Vi...</td>\n",
              "      <td>http://www.jurassicworld.com/</td>\n",
              "      <td>Colin Trevorrow</td>\n",
              "      <td>The park is open.</td>\n",
              "      <td>monster|dna|tyrannosaurus rex|velociraptor|island</td>\n",
              "      <td>Twenty-two years after the events of Jurassic ...</td>\n",
              "      <td>124</td>\n",
              "      <td>Action|Adventure|Science Fiction|Thriller</td>\n",
              "      <td>Universal Studios|Amblin Entertainment|Legenda...</td>\n",
              "      <td>06-09-2015</td>\n",
              "      <td>5562</td>\n",
              "      <td>6.5</td>\n",
              "      <td>2015</td>\n",
              "      <td>137999939.3</td>\n",
              "      <td>1.392446e+09</td>\n",
              "    </tr>\n",
              "    <tr>\n",
              "      <th>1</th>\n",
              "      <td>76341</td>\n",
              "      <td>tt1392190</td>\n",
              "      <td>28.419936</td>\n",
              "      <td>150000000</td>\n",
              "      <td>378436354</td>\n",
              "      <td>Mad Max: Fury Road</td>\n",
              "      <td>Tom Hardy|Charlize Theron|Hugh Keays-Byrne|Nic...</td>\n",
              "      <td>http://www.madmaxmovie.com/</td>\n",
              "      <td>George Miller</td>\n",
              "      <td>What a Lovely Day.</td>\n",
              "      <td>future|chase|post-apocalyptic|dystopia|australia</td>\n",
              "      <td>An apocalyptic story set in the furthest reach...</td>\n",
              "      <td>120</td>\n",
              "      <td>Action|Adventure|Science Fiction|Thriller</td>\n",
              "      <td>Village Roadshow Pictures|Kennedy Miller Produ...</td>\n",
              "      <td>5/13/15</td>\n",
              "      <td>6185</td>\n",
              "      <td>7.1</td>\n",
              "      <td>2015</td>\n",
              "      <td>137999939.3</td>\n",
              "      <td>3.481613e+08</td>\n",
              "    </tr>\n",
              "    <tr>\n",
              "      <th>2</th>\n",
              "      <td>262500</td>\n",
              "      <td>tt2908446</td>\n",
              "      <td>13.112507</td>\n",
              "      <td>110000000</td>\n",
              "      <td>295238201</td>\n",
              "      <td>Insurgent</td>\n",
              "      <td>Shailene Woodley|Theo James|Kate Winslet|Ansel...</td>\n",
              "      <td>http://www.thedivergentseries.movie/#insurgent</td>\n",
              "      <td>Robert Schwentke</td>\n",
              "      <td>One Choice Can Destroy You</td>\n",
              "      <td>based on novel|revolution|dystopia|sequel|dyst...</td>\n",
              "      <td>Beatrice Prior must confront her inner demons ...</td>\n",
              "      <td>119</td>\n",
              "      <td>Adventure|Science Fiction|Thriller</td>\n",
              "      <td>Summit Entertainment|Mandeville Films|Red Wago...</td>\n",
              "      <td>3/18/15</td>\n",
              "      <td>2480</td>\n",
              "      <td>6.3</td>\n",
              "      <td>2015</td>\n",
              "      <td>101199955.5</td>\n",
              "      <td>2.716190e+08</td>\n",
              "    </tr>\n",
              "    <tr>\n",
              "      <th>3</th>\n",
              "      <td>140607</td>\n",
              "      <td>tt2488496</td>\n",
              "      <td>11.173104</td>\n",
              "      <td>200000000</td>\n",
              "      <td>2068178225</td>\n",
              "      <td>Star Wars: The Force Awakens</td>\n",
              "      <td>Harrison Ford|Mark Hamill|Carrie Fisher|Adam D...</td>\n",
              "      <td>http://www.starwars.com/films/star-wars-episod...</td>\n",
              "      <td>J.J. Abrams</td>\n",
              "      <td>Every generation has a story.</td>\n",
              "      <td>android|spaceship|jedi|space opera|3d</td>\n",
              "      <td>Thirty years after defeating the Galactic Empi...</td>\n",
              "      <td>136</td>\n",
              "      <td>Action|Adventure|Science Fiction|Fantasy</td>\n",
              "      <td>Lucasfilm|Truenorth Productions|Bad Robot</td>\n",
              "      <td>12/15/15</td>\n",
              "      <td>5292</td>\n",
              "      <td>7.5</td>\n",
              "      <td>2015</td>\n",
              "      <td>183999919.0</td>\n",
              "      <td>1.902723e+09</td>\n",
              "    </tr>\n",
              "    <tr>\n",
              "      <th>4</th>\n",
              "      <td>168259</td>\n",
              "      <td>tt2820852</td>\n",
              "      <td>9.335014</td>\n",
              "      <td>190000000</td>\n",
              "      <td>1506249360</td>\n",
              "      <td>Furious 7</td>\n",
              "      <td>Vin Diesel|Paul Walker|Jason Statham|Michelle ...</td>\n",
              "      <td>http://www.furious7.com/</td>\n",
              "      <td>James Wan</td>\n",
              "      <td>Vengeance Hits Home</td>\n",
              "      <td>car race|speed|revenge|suspense|car</td>\n",
              "      <td>Deckard Shaw seeks revenge against Dominic Tor...</td>\n",
              "      <td>137</td>\n",
              "      <td>Action|Crime|Thriller</td>\n",
              "      <td>Universal Pictures|Original Film|Media Rights ...</td>\n",
              "      <td>04-01-2015</td>\n",
              "      <td>2947</td>\n",
              "      <td>7.3</td>\n",
              "      <td>2015</td>\n",
              "      <td>174799923.1</td>\n",
              "      <td>1.385749e+09</td>\n",
              "    </tr>\n",
              "    <tr>\n",
              "      <th>5</th>\n",
              "      <td>281957</td>\n",
              "      <td>tt1663202</td>\n",
              "      <td>9.110700</td>\n",
              "      <td>135000000</td>\n",
              "      <td>532950503</td>\n",
              "      <td>The Revenant</td>\n",
              "      <td>Leonardo DiCaprio|Tom Hardy|Will Poulter|Domhn...</td>\n",
              "      <td>http://www.foxmovies.com/movies/the-revenant</td>\n",
              "      <td>Alejandro GonzÃ¡lez IÃ±Ã¡rritu</td>\n",
              "      <td>(n. One who has returned, as if from the dead.)</td>\n",
              "      <td>father-son relationship|rape|based on novel|mo...</td>\n",
              "      <td>In the 1820s, a frontiersman, Hugh Glass, sets...</td>\n",
              "      <td>156</td>\n",
              "      <td>Western|Drama|Adventure|Thriller</td>\n",
              "      <td>Regency Enterprises|Appian Way|CatchPlay|Anony...</td>\n",
              "      <td>12/25/15</td>\n",
              "      <td>3929</td>\n",
              "      <td>7.2</td>\n",
              "      <td>2015</td>\n",
              "      <td>124199945.4</td>\n",
              "      <td>4.903142e+08</td>\n",
              "    </tr>\n",
              "  </tbody>\n",
              "</table>\n",
              "</div>"
            ],
            "text/plain": [
              "       id    imdb_id  popularity  ...  release_year   budget_adj   revenue_adj\n",
              "0  135397  tt0369610   32.985763  ...          2015  137999939.3  1.392446e+09\n",
              "1   76341  tt1392190   28.419936  ...          2015  137999939.3  3.481613e+08\n",
              "2  262500  tt2908446   13.112507  ...          2015  101199955.5  2.716190e+08\n",
              "3  140607  tt2488496   11.173104  ...          2015  183999919.0  1.902723e+09\n",
              "4  168259  tt2820852    9.335014  ...          2015  174799923.1  1.385749e+09\n",
              "5  281957  tt1663202    9.110700  ...          2015  124199945.4  4.903142e+08\n",
              "\n",
              "[6 rows x 21 columns]"
            ]
          },
          "metadata": {},
          "execution_count": 3
        }
      ]
    },
    {
      "cell_type": "code",
      "metadata": {
        "colab": {
          "base_uri": "https://localhost:8080/"
        },
        "id": "2hFByiF83-S3",
        "outputId": "0374a8a2-2a0e-47b2-c8b9-b5fc8eafc08e"
      },
      "source": [
        "df.shape\n"
      ],
      "execution_count": 4,
      "outputs": [
        {
          "output_type": "execute_result",
          "data": {
            "text/plain": [
              "(10866, 21)"
            ]
          },
          "metadata": {},
          "execution_count": 4
        }
      ]
    },
    {
      "cell_type": "code",
      "metadata": {
        "id": "o0mtM2pYrjMI",
        "colab": {
          "base_uri": "https://localhost:8080/"
        },
        "outputId": "bcbeeca0-0feb-4321-cb2e-26c4d2c5330b"
      },
      "source": [
        "df.columns"
      ],
      "execution_count": 5,
      "outputs": [
        {
          "output_type": "execute_result",
          "data": {
            "text/plain": [
              "Index(['id', 'imdb_id', 'popularity', 'budget', 'revenue', 'original_title',\n",
              "       'cast', 'homepage', 'director', 'tagline', 'keywords', 'overview',\n",
              "       'runtime', 'genres', 'production_companies', 'release_date',\n",
              "       'vote_count', 'vote_average', 'release_year', 'budget_adj',\n",
              "       'revenue_adj'],\n",
              "      dtype='object')"
            ]
          },
          "metadata": {},
          "execution_count": 5
        }
      ]
    },
    {
      "cell_type": "code",
      "metadata": {
        "id": "DAW2ACFarkWO",
        "colab": {
          "base_uri": "https://localhost:8080/"
        },
        "outputId": "cc572314-1f9a-4702-f264-2f226649878c"
      },
      "source": [
        "df.info()"
      ],
      "execution_count": 6,
      "outputs": [
        {
          "output_type": "stream",
          "name": "stdout",
          "text": [
            "<class 'pandas.core.frame.DataFrame'>\n",
            "RangeIndex: 10866 entries, 0 to 10865\n",
            "Data columns (total 21 columns):\n",
            " #   Column                Non-Null Count  Dtype  \n",
            "---  ------                --------------  -----  \n",
            " 0   id                    10866 non-null  int64  \n",
            " 1   imdb_id               10856 non-null  object \n",
            " 2   popularity            10866 non-null  float64\n",
            " 3   budget                10866 non-null  int64  \n",
            " 4   revenue               10866 non-null  int64  \n",
            " 5   original_title        10866 non-null  object \n",
            " 6   cast                  10790 non-null  object \n",
            " 7   homepage              2936 non-null   object \n",
            " 8   director              10822 non-null  object \n",
            " 9   tagline               8042 non-null   object \n",
            " 10  keywords              9373 non-null   object \n",
            " 11  overview              10862 non-null  object \n",
            " 12  runtime               10866 non-null  int64  \n",
            " 13  genres                10843 non-null  object \n",
            " 14  production_companies  9836 non-null   object \n",
            " 15  release_date          10866 non-null  object \n",
            " 16  vote_count            10866 non-null  int64  \n",
            " 17  vote_average          10866 non-null  float64\n",
            " 18  release_year          10866 non-null  int64  \n",
            " 19  budget_adj            10866 non-null  float64\n",
            " 20  revenue_adj           10866 non-null  float64\n",
            "dtypes: float64(4), int64(6), object(11)\n",
            "memory usage: 1.7+ MB\n"
          ]
        }
      ]
    },
    {
      "cell_type": "code",
      "metadata": {
        "id": "35MPTyDGtdWE",
        "colab": {
          "base_uri": "https://localhost:8080/",
          "height": 0
        },
        "outputId": "8abe3dea-bf3d-4cfd-89c3-c1f1a3eeaeb2"
      },
      "source": [
        "df.describe()"
      ],
      "execution_count": 7,
      "outputs": [
        {
          "output_type": "execute_result",
          "data": {
            "text/html": [
              "<div>\n",
              "<style scoped>\n",
              "    .dataframe tbody tr th:only-of-type {\n",
              "        vertical-align: middle;\n",
              "    }\n",
              "\n",
              "    .dataframe tbody tr th {\n",
              "        vertical-align: top;\n",
              "    }\n",
              "\n",
              "    .dataframe thead th {\n",
              "        text-align: right;\n",
              "    }\n",
              "</style>\n",
              "<table border=\"1\" class=\"dataframe\">\n",
              "  <thead>\n",
              "    <tr style=\"text-align: right;\">\n",
              "      <th></th>\n",
              "      <th>id</th>\n",
              "      <th>popularity</th>\n",
              "      <th>budget</th>\n",
              "      <th>revenue</th>\n",
              "      <th>runtime</th>\n",
              "      <th>vote_count</th>\n",
              "      <th>vote_average</th>\n",
              "      <th>release_year</th>\n",
              "      <th>budget_adj</th>\n",
              "      <th>revenue_adj</th>\n",
              "    </tr>\n",
              "  </thead>\n",
              "  <tbody>\n",
              "    <tr>\n",
              "      <th>count</th>\n",
              "      <td>10866.000000</td>\n",
              "      <td>10866.000000</td>\n",
              "      <td>1.086600e+04</td>\n",
              "      <td>1.086600e+04</td>\n",
              "      <td>10866.000000</td>\n",
              "      <td>10866.000000</td>\n",
              "      <td>10866.000000</td>\n",
              "      <td>10866.000000</td>\n",
              "      <td>1.086600e+04</td>\n",
              "      <td>1.086600e+04</td>\n",
              "    </tr>\n",
              "    <tr>\n",
              "      <th>mean</th>\n",
              "      <td>66064.177434</td>\n",
              "      <td>0.646441</td>\n",
              "      <td>1.462570e+07</td>\n",
              "      <td>3.982332e+07</td>\n",
              "      <td>102.070863</td>\n",
              "      <td>217.389748</td>\n",
              "      <td>5.974922</td>\n",
              "      <td>2001.322658</td>\n",
              "      <td>1.755104e+07</td>\n",
              "      <td>5.136436e+07</td>\n",
              "    </tr>\n",
              "    <tr>\n",
              "      <th>std</th>\n",
              "      <td>92130.136561</td>\n",
              "      <td>1.000185</td>\n",
              "      <td>3.091321e+07</td>\n",
              "      <td>1.170035e+08</td>\n",
              "      <td>31.381405</td>\n",
              "      <td>575.619058</td>\n",
              "      <td>0.935142</td>\n",
              "      <td>12.812941</td>\n",
              "      <td>3.430616e+07</td>\n",
              "      <td>1.446325e+08</td>\n",
              "    </tr>\n",
              "    <tr>\n",
              "      <th>min</th>\n",
              "      <td>5.000000</td>\n",
              "      <td>0.000065</td>\n",
              "      <td>0.000000e+00</td>\n",
              "      <td>0.000000e+00</td>\n",
              "      <td>0.000000</td>\n",
              "      <td>10.000000</td>\n",
              "      <td>1.500000</td>\n",
              "      <td>1960.000000</td>\n",
              "      <td>0.000000e+00</td>\n",
              "      <td>0.000000e+00</td>\n",
              "    </tr>\n",
              "    <tr>\n",
              "      <th>25%</th>\n",
              "      <td>10596.250000</td>\n",
              "      <td>0.207583</td>\n",
              "      <td>0.000000e+00</td>\n",
              "      <td>0.000000e+00</td>\n",
              "      <td>90.000000</td>\n",
              "      <td>17.000000</td>\n",
              "      <td>5.400000</td>\n",
              "      <td>1995.000000</td>\n",
              "      <td>0.000000e+00</td>\n",
              "      <td>0.000000e+00</td>\n",
              "    </tr>\n",
              "    <tr>\n",
              "      <th>50%</th>\n",
              "      <td>20669.000000</td>\n",
              "      <td>0.383856</td>\n",
              "      <td>0.000000e+00</td>\n",
              "      <td>0.000000e+00</td>\n",
              "      <td>99.000000</td>\n",
              "      <td>38.000000</td>\n",
              "      <td>6.000000</td>\n",
              "      <td>2006.000000</td>\n",
              "      <td>0.000000e+00</td>\n",
              "      <td>0.000000e+00</td>\n",
              "    </tr>\n",
              "    <tr>\n",
              "      <th>75%</th>\n",
              "      <td>75610.000000</td>\n",
              "      <td>0.713817</td>\n",
              "      <td>1.500000e+07</td>\n",
              "      <td>2.400000e+07</td>\n",
              "      <td>111.000000</td>\n",
              "      <td>145.750000</td>\n",
              "      <td>6.600000</td>\n",
              "      <td>2011.000000</td>\n",
              "      <td>2.085325e+07</td>\n",
              "      <td>3.369710e+07</td>\n",
              "    </tr>\n",
              "    <tr>\n",
              "      <th>max</th>\n",
              "      <td>417859.000000</td>\n",
              "      <td>32.985763</td>\n",
              "      <td>4.250000e+08</td>\n",
              "      <td>2.781506e+09</td>\n",
              "      <td>900.000000</td>\n",
              "      <td>9767.000000</td>\n",
              "      <td>9.200000</td>\n",
              "      <td>2015.000000</td>\n",
              "      <td>4.250000e+08</td>\n",
              "      <td>2.827124e+09</td>\n",
              "    </tr>\n",
              "  </tbody>\n",
              "</table>\n",
              "</div>"
            ],
            "text/plain": [
              "                  id    popularity  ...    budget_adj   revenue_adj\n",
              "count   10866.000000  10866.000000  ...  1.086600e+04  1.086600e+04\n",
              "mean    66064.177434      0.646441  ...  1.755104e+07  5.136436e+07\n",
              "std     92130.136561      1.000185  ...  3.430616e+07  1.446325e+08\n",
              "min         5.000000      0.000065  ...  0.000000e+00  0.000000e+00\n",
              "25%     10596.250000      0.207583  ...  0.000000e+00  0.000000e+00\n",
              "50%     20669.000000      0.383856  ...  0.000000e+00  0.000000e+00\n",
              "75%     75610.000000      0.713817  ...  2.085325e+07  3.369710e+07\n",
              "max    417859.000000     32.985763  ...  4.250000e+08  2.827124e+09\n",
              "\n",
              "[8 rows x 10 columns]"
            ]
          },
          "metadata": {},
          "execution_count": 7
        }
      ]
    },
    {
      "cell_type": "code",
      "metadata": {
        "id": "UV6yyvMFtgWy"
      },
      "source": [
        "df2=df.drop(['imdb_id','cast','homepage','tagline','keywords','overview','production_companies'],axis=1)\n"
      ],
      "execution_count": 8,
      "outputs": []
    },
    {
      "cell_type": "code",
      "metadata": {
        "id": "m7UzoDnL2_HO",
        "colab": {
          "base_uri": "https://localhost:8080/",
          "height": 0
        },
        "outputId": "49f8ec6b-f99f-4f40-8e36-7588f1dd74a4"
      },
      "source": [
        "print(df2.shape)\n",
        "df2.head(2)\n"
      ],
      "execution_count": 9,
      "outputs": [
        {
          "output_type": "stream",
          "name": "stdout",
          "text": [
            "(10866, 14)\n"
          ]
        },
        {
          "output_type": "execute_result",
          "data": {
            "text/html": [
              "<div>\n",
              "<style scoped>\n",
              "    .dataframe tbody tr th:only-of-type {\n",
              "        vertical-align: middle;\n",
              "    }\n",
              "\n",
              "    .dataframe tbody tr th {\n",
              "        vertical-align: top;\n",
              "    }\n",
              "\n",
              "    .dataframe thead th {\n",
              "        text-align: right;\n",
              "    }\n",
              "</style>\n",
              "<table border=\"1\" class=\"dataframe\">\n",
              "  <thead>\n",
              "    <tr style=\"text-align: right;\">\n",
              "      <th></th>\n",
              "      <th>id</th>\n",
              "      <th>popularity</th>\n",
              "      <th>budget</th>\n",
              "      <th>revenue</th>\n",
              "      <th>original_title</th>\n",
              "      <th>director</th>\n",
              "      <th>runtime</th>\n",
              "      <th>genres</th>\n",
              "      <th>release_date</th>\n",
              "      <th>vote_count</th>\n",
              "      <th>vote_average</th>\n",
              "      <th>release_year</th>\n",
              "      <th>budget_adj</th>\n",
              "      <th>revenue_adj</th>\n",
              "    </tr>\n",
              "  </thead>\n",
              "  <tbody>\n",
              "    <tr>\n",
              "      <th>0</th>\n",
              "      <td>135397</td>\n",
              "      <td>32.985763</td>\n",
              "      <td>150000000</td>\n",
              "      <td>1513528810</td>\n",
              "      <td>Jurassic World</td>\n",
              "      <td>Colin Trevorrow</td>\n",
              "      <td>124</td>\n",
              "      <td>Action|Adventure|Science Fiction|Thriller</td>\n",
              "      <td>06-09-2015</td>\n",
              "      <td>5562</td>\n",
              "      <td>6.5</td>\n",
              "      <td>2015</td>\n",
              "      <td>137999939.3</td>\n",
              "      <td>1.392446e+09</td>\n",
              "    </tr>\n",
              "    <tr>\n",
              "      <th>1</th>\n",
              "      <td>76341</td>\n",
              "      <td>28.419936</td>\n",
              "      <td>150000000</td>\n",
              "      <td>378436354</td>\n",
              "      <td>Mad Max: Fury Road</td>\n",
              "      <td>George Miller</td>\n",
              "      <td>120</td>\n",
              "      <td>Action|Adventure|Science Fiction|Thriller</td>\n",
              "      <td>5/13/15</td>\n",
              "      <td>6185</td>\n",
              "      <td>7.1</td>\n",
              "      <td>2015</td>\n",
              "      <td>137999939.3</td>\n",
              "      <td>3.481613e+08</td>\n",
              "    </tr>\n",
              "  </tbody>\n",
              "</table>\n",
              "</div>"
            ],
            "text/plain": [
              "       id  popularity     budget  ...  release_year   budget_adj   revenue_adj\n",
              "0  135397   32.985763  150000000  ...          2015  137999939.3  1.392446e+09\n",
              "1   76341   28.419936  150000000  ...          2015  137999939.3  3.481613e+08\n",
              "\n",
              "[2 rows x 14 columns]"
            ]
          },
          "metadata": {},
          "execution_count": 9
        }
      ]
    },
    {
      "cell_type": "code",
      "metadata": {
        "id": "olb8QQq93APw",
        "colab": {
          "base_uri": "https://localhost:8080/"
        },
        "outputId": "1ecf4f40-395b-420e-b4d3-6f58e5cb3867"
      },
      "source": [
        "df2.isnull().sum()"
      ],
      "execution_count": 10,
      "outputs": [
        {
          "output_type": "execute_result",
          "data": {
            "text/plain": [
              "id                 0\n",
              "popularity         0\n",
              "budget             0\n",
              "revenue            0\n",
              "original_title     0\n",
              "director          44\n",
              "runtime            0\n",
              "genres            23\n",
              "release_date       0\n",
              "vote_count         0\n",
              "vote_average       0\n",
              "release_year       0\n",
              "budget_adj         0\n",
              "revenue_adj        0\n",
              "dtype: int64"
            ]
          },
          "metadata": {},
          "execution_count": 10
        }
      ]
    },
    {
      "cell_type": "code",
      "metadata": {
        "id": "0UjfZJscrrCo"
      },
      "source": [
        "df2.dropna(inplace=True)"
      ],
      "execution_count": 11,
      "outputs": []
    },
    {
      "cell_type": "code",
      "metadata": {
        "id": "8pZ6SxidsHIY"
      },
      "source": [
        "df_drama=df2[ df2['genres'].isin(['Drama']) ]\n",
        "df_comedy=df2[ df2['genres'].isin(['Comedy']) ]"
      ],
      "execution_count": 12,
      "outputs": []
    },
    {
      "cell_type": "code",
      "metadata": {
        "id": "PJc3j4N7sxDn",
        "colab": {
          "base_uri": "https://localhost:8080/",
          "height": 0
        },
        "outputId": "93ec4633-7033-46aa-8360-d2baf113184e"
      },
      "source": [
        "df_drama.head(5)"
      ],
      "execution_count": 13,
      "outputs": [
        {
          "output_type": "execute_result",
          "data": {
            "text/html": [
              "<div>\n",
              "<style scoped>\n",
              "    .dataframe tbody tr th:only-of-type {\n",
              "        vertical-align: middle;\n",
              "    }\n",
              "\n",
              "    .dataframe tbody tr th {\n",
              "        vertical-align: top;\n",
              "    }\n",
              "\n",
              "    .dataframe thead th {\n",
              "        text-align: right;\n",
              "    }\n",
              "</style>\n",
              "<table border=\"1\" class=\"dataframe\">\n",
              "  <thead>\n",
              "    <tr style=\"text-align: right;\">\n",
              "      <th></th>\n",
              "      <th>id</th>\n",
              "      <th>popularity</th>\n",
              "      <th>budget</th>\n",
              "      <th>revenue</th>\n",
              "      <th>original_title</th>\n",
              "      <th>director</th>\n",
              "      <th>runtime</th>\n",
              "      <th>genres</th>\n",
              "      <th>release_date</th>\n",
              "      <th>vote_count</th>\n",
              "      <th>vote_average</th>\n",
              "      <th>release_year</th>\n",
              "      <th>budget_adj</th>\n",
              "      <th>revenue_adj</th>\n",
              "    </tr>\n",
              "  </thead>\n",
              "  <tbody>\n",
              "    <tr>\n",
              "      <th>55</th>\n",
              "      <td>295964</td>\n",
              "      <td>2.584264</td>\n",
              "      <td>20000000</td>\n",
              "      <td>36606743</td>\n",
              "      <td>Burnt</td>\n",
              "      <td>John Wells</td>\n",
              "      <td>100</td>\n",
              "      <td>Drama</td>\n",
              "      <td>10-02-2015</td>\n",
              "      <td>631</td>\n",
              "      <td>6.3</td>\n",
              "      <td>2015</td>\n",
              "      <td>18399991.90</td>\n",
              "      <td>3.367819e+07</td>\n",
              "    </tr>\n",
              "    <tr>\n",
              "      <th>58</th>\n",
              "      <td>306819</td>\n",
              "      <td>2.557859</td>\n",
              "      <td>15000000</td>\n",
              "      <td>64191523</td>\n",
              "      <td>The Danish Girl</td>\n",
              "      <td>Tom Hooper</td>\n",
              "      <td>120</td>\n",
              "      <td>Drama</td>\n",
              "      <td>11/27/15</td>\n",
              "      <td>867</td>\n",
              "      <td>7.3</td>\n",
              "      <td>2015</td>\n",
              "      <td>13799993.93</td>\n",
              "      <td>5.905618e+07</td>\n",
              "    </tr>\n",
              "    <tr>\n",
              "      <th>68</th>\n",
              "      <td>312221</td>\n",
              "      <td>2.331567</td>\n",
              "      <td>35000000</td>\n",
              "      <td>137935567</td>\n",
              "      <td>Creed</td>\n",
              "      <td>Ryan Coogler</td>\n",
              "      <td>133</td>\n",
              "      <td>Drama</td>\n",
              "      <td>11/25/15</td>\n",
              "      <td>1171</td>\n",
              "      <td>7.3</td>\n",
              "      <td>2015</td>\n",
              "      <td>32199985.83</td>\n",
              "      <td>1.269007e+08</td>\n",
              "    </tr>\n",
              "    <tr>\n",
              "      <th>77</th>\n",
              "      <td>321741</td>\n",
              "      <td>2.121884</td>\n",
              "      <td>35000000</td>\n",
              "      <td>48623572</td>\n",
              "      <td>Concussion</td>\n",
              "      <td>Peter Landesman</td>\n",
              "      <td>123</td>\n",
              "      <td>Drama</td>\n",
              "      <td>11-12-2015</td>\n",
              "      <td>500</td>\n",
              "      <td>6.9</td>\n",
              "      <td>2015</td>\n",
              "      <td>32199985.83</td>\n",
              "      <td>4.473367e+07</td>\n",
              "    </tr>\n",
              "    <tr>\n",
              "      <th>96</th>\n",
              "      <td>298382</td>\n",
              "      <td>1.823130</td>\n",
              "      <td>11930000</td>\n",
              "      <td>18340000</td>\n",
              "      <td>The Dressmaker</td>\n",
              "      <td>Jocelyn Moorhouse</td>\n",
              "      <td>118</td>\n",
              "      <td>Drama</td>\n",
              "      <td>10-01-2015</td>\n",
              "      <td>197</td>\n",
              "      <td>6.9</td>\n",
              "      <td>2015</td>\n",
              "      <td>10975595.17</td>\n",
              "      <td>1.687279e+07</td>\n",
              "    </tr>\n",
              "  </tbody>\n",
              "</table>\n",
              "</div>"
            ],
            "text/plain": [
              "        id  popularity    budget  ...  release_year   budget_adj   revenue_adj\n",
              "55  295964    2.584264  20000000  ...          2015  18399991.90  3.367819e+07\n",
              "58  306819    2.557859  15000000  ...          2015  13799993.93  5.905618e+07\n",
              "68  312221    2.331567  35000000  ...          2015  32199985.83  1.269007e+08\n",
              "77  321741    2.121884  35000000  ...          2015  32199985.83  4.473367e+07\n",
              "96  298382    1.823130  11930000  ...          2015  10975595.17  1.687279e+07\n",
              "\n",
              "[5 rows x 14 columns]"
            ]
          },
          "metadata": {},
          "execution_count": 13
        }
      ]
    },
    {
      "cell_type": "code",
      "metadata": {
        "id": "tnKTabkoLCQh",
        "colab": {
          "base_uri": "https://localhost:8080/",
          "height": 0
        },
        "outputId": "14dba5b7-2fd2-4829-bbca-314be6574142"
      },
      "source": [
        "\n",
        "df_comedy.head(3)"
      ],
      "execution_count": 14,
      "outputs": [
        {
          "output_type": "execute_result",
          "data": {
            "text/html": [
              "<div>\n",
              "<style scoped>\n",
              "    .dataframe tbody tr th:only-of-type {\n",
              "        vertical-align: middle;\n",
              "    }\n",
              "\n",
              "    .dataframe tbody tr th {\n",
              "        vertical-align: top;\n",
              "    }\n",
              "\n",
              "    .dataframe thead th {\n",
              "        text-align: right;\n",
              "    }\n",
              "</style>\n",
              "<table border=\"1\" class=\"dataframe\">\n",
              "  <thead>\n",
              "    <tr style=\"text-align: right;\">\n",
              "      <th></th>\n",
              "      <th>id</th>\n",
              "      <th>popularity</th>\n",
              "      <th>budget</th>\n",
              "      <th>revenue</th>\n",
              "      <th>original_title</th>\n",
              "      <th>director</th>\n",
              "      <th>runtime</th>\n",
              "      <th>genres</th>\n",
              "      <th>release_date</th>\n",
              "      <th>vote_count</th>\n",
              "      <th>vote_average</th>\n",
              "      <th>release_year</th>\n",
              "      <th>budget_adj</th>\n",
              "      <th>revenue_adj</th>\n",
              "    </tr>\n",
              "  </thead>\n",
              "  <tbody>\n",
              "    <tr>\n",
              "      <th>26</th>\n",
              "      <td>214756</td>\n",
              "      <td>4.564549</td>\n",
              "      <td>68000000</td>\n",
              "      <td>215863606</td>\n",
              "      <td>Ted 2</td>\n",
              "      <td>Seth MacFarlane</td>\n",
              "      <td>115</td>\n",
              "      <td>Comedy</td>\n",
              "      <td>6/25/15</td>\n",
              "      <td>1666</td>\n",
              "      <td>6.3</td>\n",
              "      <td>2015</td>\n",
              "      <td>62559972.47</td>\n",
              "      <td>198594430.1</td>\n",
              "    </tr>\n",
              "    <tr>\n",
              "      <th>51</th>\n",
              "      <td>257211</td>\n",
              "      <td>2.814802</td>\n",
              "      <td>35000000</td>\n",
              "      <td>194564672</td>\n",
              "      <td>The Intern</td>\n",
              "      <td>Nancy Meyers</td>\n",
              "      <td>121</td>\n",
              "      <td>Comedy</td>\n",
              "      <td>9/24/15</td>\n",
              "      <td>1255</td>\n",
              "      <td>7.1</td>\n",
              "      <td>2015</td>\n",
              "      <td>32199985.83</td>\n",
              "      <td>178999419.5</td>\n",
              "    </tr>\n",
              "    <tr>\n",
              "      <th>69</th>\n",
              "      <td>271718</td>\n",
              "      <td>2.317670</td>\n",
              "      <td>35000000</td>\n",
              "      <td>140795793</td>\n",
              "      <td>Trainwreck</td>\n",
              "      <td>Judd Apatow</td>\n",
              "      <td>125</td>\n",
              "      <td>Comedy</td>\n",
              "      <td>7/17/15</td>\n",
              "      <td>849</td>\n",
              "      <td>6.1</td>\n",
              "      <td>2015</td>\n",
              "      <td>32199985.83</td>\n",
              "      <td>129532072.6</td>\n",
              "    </tr>\n",
              "  </tbody>\n",
              "</table>\n",
              "</div>"
            ],
            "text/plain": [
              "        id  popularity    budget  ...  release_year   budget_adj  revenue_adj\n",
              "26  214756    4.564549  68000000  ...          2015  62559972.47  198594430.1\n",
              "51  257211    2.814802  35000000  ...          2015  32199985.83  178999419.5\n",
              "69  271718    2.317670  35000000  ...          2015  32199985.83  129532072.6\n",
              "\n",
              "[3 rows x 14 columns]"
            ]
          },
          "metadata": {},
          "execution_count": 14
        }
      ]
    },
    {
      "cell_type": "code",
      "metadata": {
        "id": "BCvtW_OTLFe-",
        "colab": {
          "base_uri": "https://localhost:8080/"
        },
        "outputId": "4d416ccc-6c68-4def-c6c1-4d07a9fbca80"
      },
      "source": [
        "print(df_comedy.shape,df_drama.shape)"
      ],
      "execution_count": 15,
      "outputs": [
        {
          "output_type": "stream",
          "name": "stdout",
          "text": [
            "(707, 14) (711, 14)\n"
          ]
        }
      ]
    },
    {
      "cell_type": "code",
      "metadata": {
        "id": "0wolCec3Lq1i",
        "colab": {
          "base_uri": "https://localhost:8080/",
          "height": 0
        },
        "outputId": "d5a03d10-1eed-43fa-f2ac-b7ce6faae010"
      },
      "source": [
        "\n",
        "fig,ax=plt.subplots(1,2,figsize = (14,12))\n",
        "\n",
        "number_col = df2.dtypes[df2.dtypes != 'object'].index[1:]\n",
        "drama_corr = df_drama[number_col].corr()\n",
        "comedy_corr= df_comedy[number_col].corr()\n",
        "sns.heatmap(drama_corr,annot = True,square = True,ax=ax[0],);\n",
        "sns.heatmap(comedy_corr,annot = True,square = True,ax=ax[1]);"
      ],
      "execution_count": 16,
      "outputs": [
        {
          "output_type": "display_data",
          "data": {
            "image/png": "[encoded data removed]",
            "text/plain": [
              "<Figure size 1008x864 with 4 Axes>"
            ]
          },
          "metadata": {
            "needs_background": "light"
          }
        }
      ]
    },
    {
      "cell_type": "markdown",
      "metadata": {
        "id": "EkolraPP3tn_"
      },
      "source": [
        "# Question 1:\n",
        "how popular are comedy movies compared to drama movies?\n"
      ]
    },
    {
      "cell_type": "code",
      "metadata": {
        "colab": {
          "base_uri": "https://localhost:8080/",
          "height": 0
        },
        "id": "rJ6qorr8Pga8",
        "outputId": "a24408bd-88f9-4d24-c89f-649fd804a6d2"
      },
      "source": [
        "high_pop_drama=df_drama.groupby(\"original_title\", as_index=False)['popularity'].sum().sort_values(by=\"popularity\",ascending=False)\n",
        "high_pop_comedy=df_comedy.groupby(\"original_title\", as_index=False)['popularity'].sum().sort_values(by=\"popularity\",ascending=False)\n",
        "fig,ax=plt.subplots(1,2,figsize = (12,10))\n",
        "sns.barplot(data=high_pop_drama[:10],x=\"popularity\",y=\"original_title\",palette='icefire',ax=ax[0]);\n",
        "sns.barplot(data=high_pop_comedy[:10],x=\"popularity\",y=\"original_title\",palette='icefire',ax=ax[1]);"
      ],
      "execution_count": 17,
      "outputs": [
        {
          "output_type": "display_data",
          "data": {
            "image/png": "[encoded data removed]",
            "text/plain": [
              "<Figure size 864x720 with 2 Axes>"
            ]
          },
          "metadata": {
            "needs_background": "light"
          }
        }
      ]
    },
    {
      "cell_type": "code",
      "metadata": {
        "colab": {
          "base_uri": "https://localhost:8080/"
        },
        "id": "fEr_eBjLQjbL",
        "outputId": "7d16d8c0-e323-4597-c858-5fb3cc7b7e2e"
      },
      "source": [
        "\n",
        "df_drama['popularity'].describe()"
      ],
      "execution_count": 18,
      "outputs": [
        {
          "output_type": "execute_result",
          "data": {
            "text/plain": [
              "count    711.000000\n",
              "mean       0.507554\n",
              "std        0.579070\n",
              "min        0.003731\n",
              "25%        0.201240\n",
              "50%        0.351379\n",
              "75%        0.597035\n",
              "max        8.947905\n",
              "Name: popularity, dtype: float64"
            ]
          },
          "metadata": {},
          "execution_count": 18
        }
      ]
    },
    {
      "cell_type": "code",
      "metadata": {
        "colab": {
          "base_uri": "https://localhost:8080/"
        },
        "id": "nz4JkEOdSgnJ",
        "outputId": "19799b4f-15b9-4853-b0f3-a383a333d95b"
      },
      "source": [
        "df_comedy['popularity'].describe()"
      ],
      "execution_count": 19,
      "outputs": [
        {
          "output_type": "execute_result",
          "data": {
            "text/plain": [
              "count    707.000000\n",
              "mean       0.530032\n",
              "std        0.631135\n",
              "min        0.000620\n",
              "25%        0.167949\n",
              "50%        0.330802\n",
              "75%        0.646046\n",
              "max        6.668990\n",
              "Name: popularity, dtype: float64"
            ]
          },
          "metadata": {},
          "execution_count": 19
        }
      ]
    },
    {
      "cell_type": "markdown",
      "metadata": {
        "id": "tlCGuFfV3gaK"
      },
      "source": [
        "# Question 2:\n",
        "how is the popularity trend in each of drama and comedy movies throughout the years?"
      ]
    },
    {
      "cell_type": "code",
      "metadata": {
        "colab": {
          "base_uri": "https://localhost:8080/",
          "height": 393
        },
        "id": "FKyGMyDbS3qK",
        "outputId": "ca2a1bae-dda7-4d29-fea0-e7966ed2a9b0"
      },
      "source": [
        "\n",
        "plt.figure(figsize=(28,6))\n",
        "sns.barplot( x = df_drama['release_year'],y = df_drama['popularity'],ci = None, data=df_drama)\n",
        "plt.title(' Release_year and Popularity')\n",
        "plt.xlabel('year')\n",
        "plt.ylabel('Popularity')"
      ],
      "execution_count": 20,
      "outputs": [
        {
          "output_type": "execute_result",
          "data": {
            "text/plain": [
              "Text(0, 0.5, 'Popularity')"
            ]
          },
          "metadata": {},
          "execution_count": 20
        },
        {
          "output_type": "display_data",
          "data": {
            "image/png": "[encoded data removed]",
            "text/plain": [
              "<Figure size 2016x432 with 1 Axes>"
            ]
          },
          "metadata": {
            "needs_background": "light"
          }
        }
      ]
    },
    {
      "cell_type": "code",
      "metadata": {
        "colab": {
          "base_uri": "https://localhost:8080/",
          "height": 393
        },
        "id": "GQPKsJpUX9Fq",
        "outputId": "380bcf8e-64d4-4f76-f8d0-5ed9e706a00c"
      },
      "source": [
        "plt.figure(figsize=(28,6))\n",
        "sns.barplot( x = df_comedy['release_year'],y = df_comedy['popularity'],ci = None, data=df_drama)\n",
        "plt.title(' Release_year and Popularity')\n",
        "plt.xlabel('year')\n",
        "plt.ylabel('Popularity')"
      ],
      "execution_count": 21,
      "outputs": [
        {
          "output_type": "execute_result",
          "data": {
            "text/plain": [
              "Text(0, 0.5, 'Popularity')"
            ]
          },
          "metadata": {},
          "execution_count": 21
        },
        {
          "output_type": "display_data",
          "data": {
            "image/png": "[encoded data removed]",
            "text/plain": [
              "<Figure size 2016x432 with 1 Axes>"
            ]
          },
          "metadata": {
            "needs_background": "light"
          }
        }
      ]
    },
    {
      "cell_type": "markdown",
      "metadata": {
        "id": "fxVaNN2K3K0K"
      },
      "source": [
        "# Question 3:\n",
        "how much the profit difference in drama movies to comedy?\n"
      ]
    },
    {
      "cell_type": "code",
      "metadata": {
        "colab": {
          "base_uri": "https://localhost:8080/",
          "height": 408
        },
        "id": "iovNrmO1YMxc",
        "outputId": "3db2d809-c4d8-41f0-8b7e-6c93be129ee9"
      },
      "source": [
        "df_drama['profit']=df_drama['revenue'] - df_drama['budget']\n",
        "df_comedy['profit']=df_comedy['revenue'] - df_comedy['budget']\n",
        "df_comedy.head()"
      ],
      "execution_count": 22,
      "outputs": [
        {
          "output_type": "stream",
          "name": "stderr",
          "text": [
            "/usr/local/lib/python3.7/dist-packages/ipykernel_launcher.py:1: SettingWithCopyWarning: \n",
            "A value is trying to be set on a copy of a slice from a DataFrame.\n",
            "Try using .loc[row_indexer,col_indexer] = value instead\n",
            "\n",
            "See the caveats in the documentation: https://pandas.pydata.org/pandas-docs/stable/user_guide/indexing.html#returning-a-view-versus-a-copy\n",
            "  \"\"\"Entry point for launching an IPython kernel.\n",
            "/usr/local/lib/python3.7/dist-packages/ipykernel_launcher.py:2: SettingWithCopyWarning: \n",
            "A value is trying to be set on a copy of a slice from a DataFrame.\n",
            "Try using .loc[row_indexer,col_indexer] = value instead\n",
            "\n",
            "See the caveats in the documentation: https://pandas.pydata.org/pandas-docs/stable/user_guide/indexing.html#returning-a-view-versus-a-copy\n",
            "  \n"
          ]
        },
        {
          "output_type": "execute_result",
          "data": {
            "text/html": [
              "<div>\n",
              "<style scoped>\n",
              "    .dataframe tbody tr th:only-of-type {\n",
              "        vertical-align: middle;\n",
              "    }\n",
              "\n",
              "    .dataframe tbody tr th {\n",
              "        vertical-align: top;\n",
              "    }\n",
              "\n",
              "    .dataframe thead th {\n",
              "        text-align: right;\n",
              "    }\n",
              "</style>\n",
              "<table border=\"1\" class=\"dataframe\">\n",
              "  <thead>\n",
              "    <tr style=\"text-align: right;\">\n",
              "      <th></th>\n",
              "      <th>id</th>\n",
              "      <th>popularity</th>\n",
              "      <th>budget</th>\n",
              "      <th>revenue</th>\n",
              "      <th>original_title</th>\n",
              "      <th>director</th>\n",
              "      <th>runtime</th>\n",
              "      <th>genres</th>\n",
              "      <th>release_date</th>\n",
              "      <th>vote_count</th>\n",
              "      <th>vote_average</th>\n",
              "      <th>release_year</th>\n",
              "      <th>budget_adj</th>\n",
              "      <th>revenue_adj</th>\n",
              "      <th>profit</th>\n",
              "    </tr>\n",
              "  </thead>\n",
              "  <tbody>\n",
              "    <tr>\n",
              "      <th>26</th>\n",
              "      <td>214756</td>\n",
              "      <td>4.564549</td>\n",
              "      <td>68000000</td>\n",
              "      <td>215863606</td>\n",
              "      <td>Ted 2</td>\n",
              "      <td>Seth MacFarlane</td>\n",
              "      <td>115</td>\n",
              "      <td>Comedy</td>\n",
              "      <td>6/25/15</td>\n",
              "      <td>1666</td>\n",
              "      <td>6.3</td>\n",
              "      <td>2015</td>\n",
              "      <td>62559972.47</td>\n",
              "      <td>1.985944e+08</td>\n",
              "      <td>147863606</td>\n",
              "    </tr>\n",
              "    <tr>\n",
              "      <th>51</th>\n",
              "      <td>257211</td>\n",
              "      <td>2.814802</td>\n",
              "      <td>35000000</td>\n",
              "      <td>194564672</td>\n",
              "      <td>The Intern</td>\n",
              "      <td>Nancy Meyers</td>\n",
              "      <td>121</td>\n",
              "      <td>Comedy</td>\n",
              "      <td>9/24/15</td>\n",
              "      <td>1255</td>\n",
              "      <td>7.1</td>\n",
              "      <td>2015</td>\n",
              "      <td>32199985.83</td>\n",
              "      <td>1.789994e+08</td>\n",
              "      <td>159564672</td>\n",
              "    </tr>\n",
              "    <tr>\n",
              "      <th>69</th>\n",
              "      <td>271718</td>\n",
              "      <td>2.317670</td>\n",
              "      <td>35000000</td>\n",
              "      <td>140795793</td>\n",
              "      <td>Trainwreck</td>\n",
              "      <td>Judd Apatow</td>\n",
              "      <td>125</td>\n",
              "      <td>Comedy</td>\n",
              "      <td>7/17/15</td>\n",
              "      <td>849</td>\n",
              "      <td>6.1</td>\n",
              "      <td>2015</td>\n",
              "      <td>32199985.83</td>\n",
              "      <td>1.295321e+08</td>\n",
              "      <td>105795793</td>\n",
              "    </tr>\n",
              "    <tr>\n",
              "      <th>78</th>\n",
              "      <td>296100</td>\n",
              "      <td>2.096273</td>\n",
              "      <td>25000000</td>\n",
              "      <td>52395996</td>\n",
              "      <td>The Night Before</td>\n",
              "      <td>Jonathan Levine</td>\n",
              "      <td>100</td>\n",
              "      <td>Comedy</td>\n",
              "      <td>11/20/15</td>\n",
              "      <td>363</td>\n",
              "      <td>6.1</td>\n",
              "      <td>2015</td>\n",
              "      <td>22999989.88</td>\n",
              "      <td>4.820430e+07</td>\n",
              "      <td>27395996</td>\n",
              "    </tr>\n",
              "    <tr>\n",
              "      <th>91</th>\n",
              "      <td>274167</td>\n",
              "      <td>1.904898</td>\n",
              "      <td>50000000</td>\n",
              "      <td>240360392</td>\n",
              "      <td>Daddy's Home</td>\n",
              "      <td>Sean Anders</td>\n",
              "      <td>96</td>\n",
              "      <td>Comedy</td>\n",
              "      <td>12/25/15</td>\n",
              "      <td>568</td>\n",
              "      <td>5.7</td>\n",
              "      <td>2015</td>\n",
              "      <td>45999979.76</td>\n",
              "      <td>2.211315e+08</td>\n",
              "      <td>190360392</td>\n",
              "    </tr>\n",
              "  </tbody>\n",
              "</table>\n",
              "</div>"
            ],
            "text/plain": [
              "        id  popularity    budget  ...   budget_adj   revenue_adj     profit\n",
              "26  214756    4.564549  68000000  ...  62559972.47  1.985944e+08  147863606\n",
              "51  257211    2.814802  35000000  ...  32199985.83  1.789994e+08  159564672\n",
              "69  271718    2.317670  35000000  ...  32199985.83  1.295321e+08  105795793\n",
              "78  296100    2.096273  25000000  ...  22999989.88  4.820430e+07   27395996\n",
              "91  274167    1.904898  50000000  ...  45999979.76  2.211315e+08  190360392\n",
              "\n",
              "[5 rows x 15 columns]"
            ]
          },
          "metadata": {},
          "execution_count": 22
        }
      ]
    },
    {
      "cell_type": "code",
      "metadata": {
        "colab": {
          "base_uri": "https://localhost:8080/"
        },
        "id": "KxbEeXvBYy76",
        "outputId": "13ecd8e1-0d20-460b-aeee-7cf4dbfd46aa"
      },
      "source": [
        "df_comedy['profit'].mean()-df_drama['profit'].mean()"
      ],
      "execution_count": 23,
      "outputs": [
        {
          "output_type": "execute_result",
          "data": {
            "text/plain": [
              "6060631.786926793"
            ]
          },
          "metadata": {},
          "execution_count": 23
        }
      ]
    },
    {
      "cell_type": "code",
      "metadata": {
        "colab": {
          "base_uri": "https://localhost:8080/"
        },
        "id": "-gvBUB3TbKeG",
        "outputId": "f3f1cbae-f200-4ecc-96b8-1377830aabd9"
      },
      "source": [
        "df_comedy['profit'].max()-df_drama['profit'].max()"
      ],
      "execution_count": 24,
      "outputs": [
        {
          "output_type": "execute_result",
          "data": {
            "text/plain": [
              "-157628801"
            ]
          },
          "metadata": {},
          "execution_count": 24
        }
      ]
    },
    {
      "cell_type": "code",
      "metadata": {
        "colab": {
          "base_uri": "https://localhost:8080/",
          "height": 235
        },
        "id": "S6-sqxF1bSs1",
        "outputId": "232bdaf4-bb24-44fd-b839-cfc937de828c"
      },
      "source": [
        "df_drama.sort_values('profit',ascending=False)[:6]"
      ],
      "execution_count": 25,
      "outputs": [
        {
          "output_type": "execute_result",
          "data": {
            "text/html": [
              "<div>\n",
              "<style scoped>\n",
              "    .dataframe tbody tr th:only-of-type {\n",
              "        vertical-align: middle;\n",
              "    }\n",
              "\n",
              "    .dataframe tbody tr th {\n",
              "        vertical-align: top;\n",
              "    }\n",
              "\n",
              "    .dataframe thead th {\n",
              "        text-align: right;\n",
              "    }\n",
              "</style>\n",
              "<table border=\"1\" class=\"dataframe\">\n",
              "  <thead>\n",
              "    <tr style=\"text-align: right;\">\n",
              "      <th></th>\n",
              "      <th>id</th>\n",
              "      <th>popularity</th>\n",
              "      <th>budget</th>\n",
              "      <th>revenue</th>\n",
              "      <th>original_title</th>\n",
              "      <th>director</th>\n",
              "      <th>runtime</th>\n",
              "      <th>genres</th>\n",
              "      <th>release_date</th>\n",
              "      <th>vote_count</th>\n",
              "      <th>vote_average</th>\n",
              "      <th>release_year</th>\n",
              "      <th>budget_adj</th>\n",
              "      <th>revenue_adj</th>\n",
              "      <th>profit</th>\n",
              "    </tr>\n",
              "  </thead>\n",
              "  <tbody>\n",
              "    <tr>\n",
              "      <th>7073</th>\n",
              "      <td>615</td>\n",
              "      <td>0.672946</td>\n",
              "      <td>30000000</td>\n",
              "      <td>611899420</td>\n",
              "      <td>The Passion of the Christ</td>\n",
              "      <td>Mel Gibson</td>\n",
              "      <td>127</td>\n",
              "      <td>Drama</td>\n",
              "      <td>2/25/04</td>\n",
              "      <td>457</td>\n",
              "      <td>6.8</td>\n",
              "      <td>2004</td>\n",
              "      <td>34633361.99</td>\n",
              "      <td>706404470.6</td>\n",
              "      <td>581899420</td>\n",
              "    </tr>\n",
              "    <tr>\n",
              "      <th>2411</th>\n",
              "      <td>14</td>\n",
              "      <td>3.555720</td>\n",
              "      <td>15000000</td>\n",
              "      <td>356296601</td>\n",
              "      <td>American Beauty</td>\n",
              "      <td>Sam Mendes</td>\n",
              "      <td>122</td>\n",
              "      <td>Drama</td>\n",
              "      <td>9/15/99</td>\n",
              "      <td>1756</td>\n",
              "      <td>7.7</td>\n",
              "      <td>1999</td>\n",
              "      <td>19635792.70</td>\n",
              "      <td>466411079.8</td>\n",
              "      <td>341296601</td>\n",
              "    </tr>\n",
              "    <tr>\n",
              "      <th>9454</th>\n",
              "      <td>380</td>\n",
              "      <td>1.459821</td>\n",
              "      <td>25000000</td>\n",
              "      <td>354825435</td>\n",
              "      <td>Rain Man</td>\n",
              "      <td>Barry Levinson</td>\n",
              "      <td>133</td>\n",
              "      <td>Drama</td>\n",
              "      <td>12-11-1988</td>\n",
              "      <td>934</td>\n",
              "      <td>7.4</td>\n",
              "      <td>1988</td>\n",
              "      <td>46097275.58</td>\n",
              "      <td>654259434.4</td>\n",
              "      <td>329825435</td>\n",
              "    </tr>\n",
              "    <tr>\n",
              "      <th>8076</th>\n",
              "      <td>568</td>\n",
              "      <td>2.191608</td>\n",
              "      <td>52000000</td>\n",
              "      <td>355237933</td>\n",
              "      <td>Apollo 13</td>\n",
              "      <td>Ron Howard</td>\n",
              "      <td>140</td>\n",
              "      <td>Drama</td>\n",
              "      <td>6/30/95</td>\n",
              "      <td>1002</td>\n",
              "      <td>7.1</td>\n",
              "      <td>1995</td>\n",
              "      <td>74410277.09</td>\n",
              "      <td>508333712.1</td>\n",
              "      <td>303237933</td>\n",
              "    </tr>\n",
              "    <tr>\n",
              "      <th>1403</th>\n",
              "      <td>22881</td>\n",
              "      <td>2.367474</td>\n",
              "      <td>29000000</td>\n",
              "      <td>309208309</td>\n",
              "      <td>The Blind Side</td>\n",
              "      <td>John Lee Hancock</td>\n",
              "      <td>129</td>\n",
              "      <td>Drama</td>\n",
              "      <td>11/20/09</td>\n",
              "      <td>1078</td>\n",
              "      <td>7.1</td>\n",
              "      <td>2009</td>\n",
              "      <td>29475612.59</td>\n",
              "      <td>314279459.5</td>\n",
              "      <td>280208309</td>\n",
              "    </tr>\n",
              "    <tr>\n",
              "      <th>6091</th>\n",
              "      <td>1374</td>\n",
              "      <td>1.149954</td>\n",
              "      <td>31000000</td>\n",
              "      <td>300473716</td>\n",
              "      <td>Rocky IV</td>\n",
              "      <td>Sylvester Stallone</td>\n",
              "      <td>91</td>\n",
              "      <td>Drama</td>\n",
              "      <td>11/21/85</td>\n",
              "      <td>517</td>\n",
              "      <td>6.6</td>\n",
              "      <td>1985</td>\n",
              "      <td>62842147.62</td>\n",
              "      <td>609110116.7</td>\n",
              "      <td>269473716</td>\n",
              "    </tr>\n",
              "  </tbody>\n",
              "</table>\n",
              "</div>"
            ],
            "text/plain": [
              "         id  popularity    budget  ...   budget_adj  revenue_adj     profit\n",
              "7073    615    0.672946  30000000  ...  34633361.99  706404470.6  581899420\n",
              "2411     14    3.555720  15000000  ...  19635792.70  466411079.8  341296601\n",
              "9454    380    1.459821  25000000  ...  46097275.58  654259434.4  329825435\n",
              "8076    568    2.191608  52000000  ...  74410277.09  508333712.1  303237933\n",
              "1403  22881    2.367474  29000000  ...  29475612.59  314279459.5  280208309\n",
              "6091   1374    1.149954  31000000  ...  62842147.62  609110116.7  269473716\n",
              "\n",
              "[6 rows x 15 columns]"
            ]
          },
          "metadata": {},
          "execution_count": 25
        }
      ]
    },
    {
      "cell_type": "code",
      "metadata": {
        "colab": {
          "base_uri": "https://localhost:8080/",
          "height": 235
        },
        "id": "vf_XUBrzc2HX",
        "outputId": "3c1f9d44-0fe4-4287-cec2-0a72efc82ce0"
      },
      "source": [
        "df_comedy.sort_values('profit',ascending=False)[:6]"
      ],
      "execution_count": 26,
      "outputs": [
        {
          "output_type": "execute_result",
          "data": {
            "text/html": [
              "<div>\n",
              "<style scoped>\n",
              "    .dataframe tbody tr th:only-of-type {\n",
              "        vertical-align: middle;\n",
              "    }\n",
              "\n",
              "    .dataframe tbody tr th {\n",
              "        vertical-align: top;\n",
              "    }\n",
              "\n",
              "    .dataframe thead th {\n",
              "        text-align: right;\n",
              "    }\n",
              "</style>\n",
              "<table border=\"1\" class=\"dataframe\">\n",
              "  <thead>\n",
              "    <tr style=\"text-align: right;\">\n",
              "      <th></th>\n",
              "      <th>id</th>\n",
              "      <th>popularity</th>\n",
              "      <th>budget</th>\n",
              "      <th>revenue</th>\n",
              "      <th>original_title</th>\n",
              "      <th>director</th>\n",
              "      <th>runtime</th>\n",
              "      <th>genres</th>\n",
              "      <th>release_date</th>\n",
              "      <th>vote_count</th>\n",
              "      <th>vote_average</th>\n",
              "      <th>release_year</th>\n",
              "      <th>budget_adj</th>\n",
              "      <th>revenue_adj</th>\n",
              "      <th>profit</th>\n",
              "    </tr>\n",
              "  </thead>\n",
              "  <tbody>\n",
              "    <tr>\n",
              "      <th>1397</th>\n",
              "      <td>18785</td>\n",
              "      <td>3.153060</td>\n",
              "      <td>35000000</td>\n",
              "      <td>459270619</td>\n",
              "      <td>The Hangover</td>\n",
              "      <td>Todd Phillips</td>\n",
              "      <td>100</td>\n",
              "      <td>Comedy</td>\n",
              "      <td>06-05-2009</td>\n",
              "      <td>4134</td>\n",
              "      <td>7.1</td>\n",
              "      <td>2009</td>\n",
              "      <td>3.557402e+07</td>\n",
              "      <td>466802856.5</td>\n",
              "      <td>424270619</td>\n",
              "    </tr>\n",
              "    <tr>\n",
              "      <th>2424</th>\n",
              "      <td>509</td>\n",
              "      <td>1.723850</td>\n",
              "      <td>42000000</td>\n",
              "      <td>363889678</td>\n",
              "      <td>Notting Hill</td>\n",
              "      <td>Roger Michell</td>\n",
              "      <td>124</td>\n",
              "      <td>Comedy</td>\n",
              "      <td>5/13/99</td>\n",
              "      <td>688</td>\n",
              "      <td>6.8</td>\n",
              "      <td>1999</td>\n",
              "      <td>5.498022e+07</td>\n",
              "      <td>476350818.8</td>\n",
              "      <td>321889678</td>\n",
              "    </tr>\n",
              "    <tr>\n",
              "      <th>8668</th>\n",
              "      <td>4247</td>\n",
              "      <td>1.815244</td>\n",
              "      <td>19000000</td>\n",
              "      <td>278019771</td>\n",
              "      <td>Scary Movie</td>\n",
              "      <td>Keenen Ivory Wayans</td>\n",
              "      <td>88</td>\n",
              "      <td>Comedy</td>\n",
              "      <td>07-07-2000</td>\n",
              "      <td>681</td>\n",
              "      <td>5.9</td>\n",
              "      <td>2000</td>\n",
              "      <td>2.405955e+07</td>\n",
              "      <td>352054243.6</td>\n",
              "      <td>259019771</td>\n",
              "    </tr>\n",
              "    <tr>\n",
              "      <th>5482</th>\n",
              "      <td>109439</td>\n",
              "      <td>1.439458</td>\n",
              "      <td>103000000</td>\n",
              "      <td>362000072</td>\n",
              "      <td>The Hangover Part III</td>\n",
              "      <td>Todd Phillips</td>\n",
              "      <td>100</td>\n",
              "      <td>Comedy</td>\n",
              "      <td>5/23/13</td>\n",
              "      <td>2010</td>\n",
              "      <td>6.0</td>\n",
              "      <td>2013</td>\n",
              "      <td>9.641144e+07</td>\n",
              "      <td>338844141.1</td>\n",
              "      <td>259000072</td>\n",
              "    </tr>\n",
              "    <tr>\n",
              "      <th>5248</th>\n",
              "      <td>9427</td>\n",
              "      <td>1.412516</td>\n",
              "      <td>3500000</td>\n",
              "      <td>257850122</td>\n",
              "      <td>The Full Monty</td>\n",
              "      <td>Peter Cattaneo</td>\n",
              "      <td>91</td>\n",
              "      <td>Comedy</td>\n",
              "      <td>8/13/97</td>\n",
              "      <td>163</td>\n",
              "      <td>6.4</td>\n",
              "      <td>1997</td>\n",
              "      <td>4.754611e+06</td>\n",
              "      <td>350279159.5</td>\n",
              "      <td>254350122</td>\n",
              "    </tr>\n",
              "    <tr>\n",
              "      <th>690</th>\n",
              "      <td>195589</td>\n",
              "      <td>2.376309</td>\n",
              "      <td>18000000</td>\n",
              "      <td>268157400</td>\n",
              "      <td>Neighbors</td>\n",
              "      <td>Nicholas Stoller</td>\n",
              "      <td>96</td>\n",
              "      <td>Comedy</td>\n",
              "      <td>05-08-2014</td>\n",
              "      <td>1829</td>\n",
              "      <td>6.2</td>\n",
              "      <td>2014</td>\n",
              "      <td>1.657964e+07</td>\n",
              "      <td>246997381.3</td>\n",
              "      <td>250157400</td>\n",
              "    </tr>\n",
              "  </tbody>\n",
              "</table>\n",
              "</div>"
            ],
            "text/plain": [
              "          id  popularity     budget  ...    budget_adj  revenue_adj     profit\n",
              "1397   18785    3.153060   35000000  ...  3.557402e+07  466802856.5  424270619\n",
              "2424     509    1.723850   42000000  ...  5.498022e+07  476350818.8  321889678\n",
              "8668    4247    1.815244   19000000  ...  2.405955e+07  352054243.6  259019771\n",
              "5482  109439    1.439458  103000000  ...  9.641144e+07  338844141.1  259000072\n",
              "5248    9427    1.412516    3500000  ...  4.754611e+06  350279159.5  254350122\n",
              "690   195589    2.376309   18000000  ...  1.657964e+07  246997381.3  250157400\n",
              "\n",
              "[6 rows x 15 columns]"
            ]
          },
          "metadata": {},
          "execution_count": 26
        }
      ]
    },
    {
      "cell_type": "code",
      "metadata": {
        "colab": {
          "base_uri": "https://localhost:8080/",
          "height": 568
        },
        "id": "be4_BkZvdjlL",
        "outputId": "c5c517db-2416-4783-cf17-9d1306fd053d"
      },
      "source": [
        "fig,ax=plt.subplots(1,2,figsize = (18,9))\n",
        "stat=df_drama.groupby('release_year')['profit'].mean()\n",
        "stat.plot(kind='line',ax=ax[0],ylabel='profit',title='Profit Graph of Drama Movies for each year');\n",
        "stat2=df_comedy.groupby('release_year')['profit'].mean()\n",
        "stat2.plot(kind='line',ax=ax[1],ylabel='profit',title='Profit Graph of Comedy Movies for each year');\n",
        "\n",
        "\n",
        "\n",
        "    "
      ],
      "execution_count": 27,
      "outputs": [
        {
          "output_type": "display_data",
          "data": {
            "image/png": "[encoded data removed]",
            "text/plain": [
              "<Figure size 1296x648 with 2 Axes>"
            ]
          },
          "metadata": {
            "needs_background": "light"
          }
        }
      ]
    },
    {
      "cell_type": "markdown",
      "metadata": {
        "id": "Uhrx3oUM2q6E"
      },
      "source": [
        "# Question 4: \n",
        "how many drama and comedy movies released per year ?\n"
      ]
    },
    {
      "cell_type": "code",
      "metadata": {
        "colab": {
          "base_uri": "https://localhost:8080/"
        },
        "id": "Dwa5ucKOtwvx",
        "outputId": "ed415049-69ea-4d34-fc14-fb56f9e996cc"
      },
      "source": [
        "drama_count=df_drama.groupby(['release_year'])['id'].count().sort_values(ascending=False)\n",
        "drama_count[:]"
      ],
      "execution_count": 28,
      "outputs": [
        {
          "output_type": "execute_result",
          "data": {
            "text/plain": [
              "release_year\n",
              "2014    72\n",
              "2013    59\n",
              "2015    58\n",
              "2012    58\n",
              "2010    37\n",
              "2011    34\n",
              "2008    33\n",
              "2006    31\n",
              "2009    27\n",
              "2005    24\n",
              "2007    23\n",
              "2004    22\n",
              "1999    17\n",
              "2000    15\n",
              "1997    12\n",
              "1993    11\n",
              "1988    11\n",
              "2001    10\n",
              "1992    10\n",
              "1985     9\n",
              "2003     9\n",
              "1996     8\n",
              "2002     8\n",
              "1998     7\n",
              "1989     7\n",
              "1987     7\n",
              "1995     7\n",
              "1991     6\n",
              "1994     6\n",
              "1969     5\n",
              "1990     4\n",
              "1971     4\n",
              "1986     4\n",
              "1984     4\n",
              "1981     4\n",
              "1980     4\n",
              "1979     4\n",
              "1962     4\n",
              "1968     4\n",
              "1961     3\n",
              "1978     3\n",
              "1974     3\n",
              "1975     3\n",
              "1977     3\n",
              "1976     2\n",
              "1966     2\n",
              "1965     2\n",
              "1963     2\n",
              "1982     2\n",
              "1960     2\n",
              "1973     1\n",
              "1972     1\n",
              "1970     1\n",
              "1967     1\n",
              "1964     1\n",
              "Name: id, dtype: int64"
            ]
          },
          "metadata": {},
          "execution_count": 28
        }
      ]
    },
    {
      "cell_type": "code",
      "metadata": {
        "colab": {
          "base_uri": "https://localhost:8080/"
        },
        "id": "M4JPVFfm1bHV",
        "outputId": "f269ad4f-53b7-4444-c73e-35a55e78b921"
      },
      "source": [
        "comedy_count=df_comedy.groupby(['release_year'])['id'].count().sort_values(ascending=False)\n",
        "comedy_count[:]"
      ],
      "execution_count": 29,
      "outputs": [
        {
          "output_type": "execute_result",
          "data": {
            "text/plain": [
              "release_year\n",
              "2013    57\n",
              "2014    50\n",
              "2009    43\n",
              "2012    41\n",
              "2015    36\n",
              "2007    34\n",
              "2011    33\n",
              "2006    30\n",
              "2010    29\n",
              "2004    28\n",
              "2008    28\n",
              "2005    22\n",
              "2000    18\n",
              "1999    18\n",
              "2003    17\n",
              "2001    15\n",
              "1996    15\n",
              "1997    13\n",
              "1995    12\n",
              "1993    12\n",
              "1989    12\n",
              "1994    10\n",
              "1998    10\n",
              "1983    10\n",
              "1988     8\n",
              "1984     8\n",
              "1987     8\n",
              "1985     8\n",
              "2002     7\n",
              "1986     7\n",
              "1982     7\n",
              "1991     6\n",
              "1981     6\n",
              "1979     5\n",
              "1972     4\n",
              "1990     4\n",
              "1980     4\n",
              "1967     3\n",
              "1968     3\n",
              "1971     3\n",
              "1978     3\n",
              "1975     3\n",
              "1992     3\n",
              "1976     2\n",
              "1970     2\n",
              "1969     2\n",
              "1960     2\n",
              "1974     1\n",
              "1977     1\n",
              "1966     1\n",
              "1964     1\n",
              "1963     1\n",
              "1961     1\n",
              "Name: id, dtype: int64"
            ]
          },
          "metadata": {},
          "execution_count": 29
        }
      ]
    },
    {
      "cell_type": "code",
      "metadata": {
        "colab": {
          "base_uri": "https://localhost:8080/",
          "height": 607
        },
        "id": "Zf77X0lz2GIX",
        "outputId": "41b845b2-38ec-451d-8321-69eb0efd2e3d"
      },
      "source": [
        "fig,ax=plt.subplots(1,2,figsize = (19,10))\n",
        "drama_count.plot(kind='barh',ax=ax[0],ylabel='# of Movies',title='number of Drama Movies released for each year');\n",
        "comedy_count.plot(kind='barh',ax=ax[1],ylabel='# of Movies',title='number of Comedy Movies released for each year');\n"
      ],
      "execution_count": 30,
      "outputs": [
        {
          "output_type": "display_data",
          "data": {
            "image/png": "[encoded data removed]",
            "text/plain": [
              "<Figure size 1368x720 with 2 Axes>"
            ]
          },
          "metadata": {
            "needs_background": "light"
          }
        }
      ]
    },
    {
      "cell_type": "code",
      "metadata": {
        "id": "eGQDF-gYiehl"
      },
      "source": [
        ""
      ],
      "execution_count": 30,
      "outputs": []
    }
  ]
}